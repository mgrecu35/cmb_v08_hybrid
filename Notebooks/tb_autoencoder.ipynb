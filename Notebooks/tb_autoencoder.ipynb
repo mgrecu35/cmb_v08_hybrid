{
 "cells": [
  {
   "cell_type": "code",
   "execution_count": 2,
   "metadata": {},
   "outputs": [],
   "source": [
    "############################################\n",
    "import netCDF4 as nc\n",
    "import numpy as np\n",
    "import matplotlib.pyplot as plt\n",
    "\n",
    "# Read the data\n",
    "with nc.Dataset('tb_sfc_precip_2017_1_4_7_10.nc') as f:\n",
    "    tb=f.variables['tb'][:]\n",
    "    sfc_precip=f.variables['sfc_precip'][:]\n",
    "    a=np.nonzero(tb[:,0]==tb[:,0])\n",
    "\n",
    "tb=tb[a[0],:]\n",
    "tb_mean=np.mean(tb,axis=0)\n",
    "tb_std=np.std(tb,axis=0)\n",
    "\n",
    "\n",
    "\n",
    "\n",
    "#[169.75692749023438 93.41938781738281 194.39111328125 128.16268920898438,221.89120483398438 221.03565979003906 163.11097717285156,267.5454406738281 240.66546630859375]"
   ]
  },
  {
   "cell_type": "code",
   "execution_count": 5,
   "metadata": {},
   "outputs": [
    {
     "name": "stdout",
     "output_type": "stream",
     "text": [
      "(967427, 9)\n"
     ]
    }
   ],
   "source": [
    "X_scaled=(tb-tb_mean)/tb_std\n",
    "X_train=X_scaled[::10,:]\n",
    "print(X_train.shape)"
   ]
  },
  {
   "cell_type": "code",
   "execution_count": 6,
   "metadata": {},
   "outputs": [],
   "source": [
    "import torch\n",
    "import torch.nn as nn\n",
    "import torch.optim as optim\n",
    "from torch.utils.data import DataLoader, TensorDataset\n",
    "\n",
    "# Define the Autoencoder class\n",
    "class SimpleAutoencoder(nn.Module):\n",
    "    def __init__(self, input_dim, hidden_dim, latent_dim):\n",
    "        super(SimpleAutoencoder, self).__init__()\n",
    "        \n",
    "        # Encoder\n",
    "        self.encoder = nn.Sequential(\n",
    "            nn.Linear(input_dim, hidden_dim),\n",
    "            nn.ReLU(True),\n",
    "            nn.Linear(hidden_dim, latent_dim)\n",
    "        )\n",
    "        \n",
    "        # Decoder\n",
    "        self.decoder = nn.Sequential(\n",
    "            nn.Linear(latent_dim, hidden_dim),\n",
    "            nn.ReLU(True),\n",
    "            nn.Linear(hidden_dim, input_dim)  # Use Sigmoid for normalized output\n",
    "        )\n",
    "\n",
    "    def forward(self, x):\n",
    "        # Encode\n",
    "        x = self.encoder(x)\n",
    "        \n",
    "        # Decode\n",
    "        x = self.decoder(x)\n",
    "        return x\n",
    "\n",
    "# Assuming X_train is a PyTorch tensor with shape (n_sample, 9)\n",
    "input_dim = X_train.shape[1]\n",
    "hidden_dim = 16  # Hidden layer dimension\n",
    "latent_dim = 3  # Latent dimension\n"
   ]
  },
  {
   "cell_type": "code",
   "execution_count": 9,
   "metadata": {},
   "outputs": [],
   "source": [
    "train_dataset = TensorDataset(torch.tensor(X_train, dtype=torch.float32))\n",
    "train_loader = DataLoader(train_dataset, batch_size=64, shuffle=True) \n",
    "\n",
    "# Initialize the autoencoder\n",
    "autoencoder = SimpleAutoencoder(input_dim, hidden_dim, latent_dim)  \n",
    "\n",
    "criterion = nn.MSELoss()\n",
    "optimizer = optim.Adam(autoencoder.parameters(), lr=0.001)"
   ]
  },
  {
   "cell_type": "code",
   "execution_count": 10,
   "metadata": {},
   "outputs": [
    {
     "name": "stdout",
     "output_type": "stream",
     "text": [
      "Epoch [1/20], Loss: 0.0146\n",
      "Epoch [2/20], Loss: 0.0042\n",
      "Epoch [3/20], Loss: 0.0036\n",
      "Epoch [4/20], Loss: 0.0033\n",
      "Epoch [5/20], Loss: 0.0033\n",
      "Epoch [6/20], Loss: 0.0032\n",
      "Epoch [7/20], Loss: 0.0032\n",
      "Epoch [8/20], Loss: 0.0032\n",
      "Epoch [9/20], Loss: 0.0032\n",
      "Epoch [10/20], Loss: 0.0032\n",
      "Epoch [11/20], Loss: 0.0032\n",
      "Epoch [12/20], Loss: 0.0031\n",
      "Epoch [13/20], Loss: 0.0031\n",
      "Epoch [14/20], Loss: 0.0031\n",
      "Epoch [15/20], Loss: 0.0031\n",
      "Epoch [16/20], Loss: 0.0031\n",
      "Epoch [17/20], Loss: 0.0031\n",
      "Epoch [18/20], Loss: 0.0031\n",
      "Epoch [19/20], Loss: 0.0031\n",
      "Epoch [20/20], Loss: 0.0031\n",
      "Training complete.\n"
     ]
    }
   ],
   "source": [
    "\n",
    "\n",
    "\n",
    "\n",
    "# Define loss function and optimizer\n",
    "\n",
    "# Training loop\n",
    "num_epochs = 20\n",
    "for epoch in range(num_epochs):\n",
    "    avg_loss = 0\n",
    "    for data in train_loader:\n",
    "        inputs = data[0]\n",
    "        \n",
    "        # Zero the parameter gradients\n",
    "        optimizer.zero_grad()\n",
    "        \n",
    "        # Forward pass\n",
    "        outputs = autoencoder(inputs)\n",
    "        loss = criterion(outputs, inputs)\n",
    "        avg_loss += loss.item()\n",
    "        # Backward pass and optimize\n",
    "        loss.backward()\n",
    "        optimizer.step()\n",
    "    \n",
    "    print(f'Epoch [{epoch+1}/{num_epochs}], Loss: {avg_loss/len(train_loader):.4f}')\n",
    "\n",
    "print(\"Training complete.\")"
   ]
  },
  {
   "cell_type": "code",
   "execution_count": 11,
   "metadata": {},
   "outputs": [],
   "source": [
    "scripted_model = torch.jit.script(autoencoder)\n",
    "scripted_model.save(\"autoencoder.pt\")\n",
    "import pickle\n",
    "d_scaler={'mean':tb_mean,'std':tb_std}\n",
    "pickle.dump(d_scaler,open('tb_scaler.pkl','wb'))"
   ]
  }
 ],
 "metadata": {
  "kernelspec": {
   "display_name": "base",
   "language": "python",
   "name": "python3"
  },
  "language_info": {
   "codemirror_mode": {
    "name": "ipython",
    "version": 3
   },
   "file_extension": ".py",
   "mimetype": "text/x-python",
   "name": "python",
   "nbconvert_exporter": "python",
   "pygments_lexer": "ipython3",
   "version": "3.12.8"
  }
 },
 "nbformat": 4,
 "nbformat_minor": 2
}
