{
 "cells": [
  {
   "cell_type": "code",
   "execution_count": 2,
   "metadata": {},
   "outputs": [],
   "source": [
    "import numpy as np\n",
    "from skl2onnx import convert_sklearn\n",
    "from skl2onnx.common.data_types import FloatTensorType\n",
    "from sklearn.multioutput import MultiOutputRegressor\n",
    "from sklearn.neighbors import KNeighborsRegressor\n",
    "from sklearn.datasets import make_regression\n",
    "import joblib\n",
    "\n",
    "# Generate multivariate regression dataset\n",
    "X, y = make_regression(n_samples=100, n_features=2, n_targets=3, noise=0.1, random_state=42)\n",
    "\n",
    "# Train a KNN regressor for multivariate output\n",
    "base_model = KNeighborsRegressor(n_neighbors=5)\n",
    "model = MultiOutputRegressor(base_model)\n",
    "model.fit(X, y)\n",
    "\n",
    "# Save the model (optional)\n",
    "joblib.dump(model, 'knn_model_multivariate.pkl')\n",
    "\n",
    "# Convert to ONNX format\n",
    "initial_type = [('float_input', FloatTensorType([None, X.shape[1]]))]\n",
    "onnx_model = convert_sklearn(model, initial_types=initial_type)\n",
    "\n",
    "# Save the ONNX model\n",
    "with open(\"knn_model_multivariate.onnx\", \"wb\") as f:\n",
    "    f.write(onnx_model.SerializeToString())\n"
   ]
  }
 ],
 "metadata": {
  "kernelspec": {
   "display_name": "base",
   "language": "python",
   "name": "python3"
  },
  "language_info": {
   "codemirror_mode": {
    "name": "ipython",
    "version": 3
   },
   "file_extension": ".py",
   "mimetype": "text/x-python",
   "name": "python",
   "nbconvert_exporter": "python",
   "pygments_lexer": "ipython3",
   "version": "3.12.7"
  }
 },
 "nbformat": 4,
 "nbformat_minor": 2
}
