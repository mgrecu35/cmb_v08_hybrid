{
 "cells": [
  {
   "cell_type": "code",
   "execution_count": 94,
   "metadata": {},
   "outputs": [],
   "source": [
    "import glob\n",
    "import numpy as np\n",
    "import matplotlib.pyplot as plt\n",
    "import netCDF4 as nc\n",
    "\n",
    "fp=glob.glob('output_land_patches/patches_*.nc')\n",
    "fp=sorted(fp)\n",
    "land_fractL=[]\n",
    "tc_L=[]\n",
    "sfc_type_L=[]\n",
    "sk_temp_L=[]\n",
    "qv_L=[]\n",
    "oe_wvp_L=[]\n",
    "near_sfc_precip_L=[]\n",
    "sfc_emiss_L=[]\n",
    "for f in fp:\n",
    "    with nc.Dataset(f) as df:\n",
    "        #print(df.variables.keys())\n",
    "        #stop\n",
    "        tc_s1=df['tc_s1'][:]\n",
    "        tc_s2=df['tc_s2'][:]\n",
    "        surface_type=df['surface_type'][:]\n",
    "        sk_temp=df['sk_temp'][:]\n",
    "        qv=df['qv'][:]\n",
    "        oe_wvp=df['oe_wvp'][:]\n",
    "        near_sfc_precip=df['near_sfc_precip'][:]\n",
    "        sfc_emiss=df['sfc_emiss'][:]\n",
    "        \n",
    "        for i in range(surface_type.shape[0]):\n",
    "            a=np.nonzero(surface_type[i,:,:]!=0)\n",
    "            land_fractL.append(len(a[0])/(128*49))\n",
    "            if len(a[0])/(128*49)>0.5:\n",
    "                a=np.nonzero(near_sfc_precip[i,:,:].data<0)\n",
    "                if len(a[0])>0:\n",
    "                    continue\n",
    "                a=np.nonzero(oe_wvp[i,:,:].data<0)\n",
    "                if len(a[0])>0:\n",
    "                    continue\n",
    "                tc_L.append(np.concatenate((tc_s1[i,:,:,:],tc_s2[i,:,:,:]),axis=-1))\n",
    "                sfc_type_L.append(surface_type[i,:,:])\n",
    "                sk_temp_L.append(sk_temp[i,:,:])\n",
    "                qv_L.append(qv[i,:,:,-1])\n",
    "                oe_wvp_L.append(oe_wvp[i,:,:])\n",
    "                sfc_emiss_L.append(sfc_emiss[i,:,:,:])\n",
    "                near_sfc_precip_L.append(np.log10(1+near_sfc_precip[i,:,:]/0.1))\n",
    "    #break"
   ]
  },
  {
   "cell_type": "code",
   "execution_count": 120,
   "metadata": {},
   "outputs": [],
   "source": [
    "var_L=[]\n",
    "norm_param_L=[]\n",
    "for vars in [tc_L,sfc_type_L,sk_temp_L,oe_wvp_L,near_sfc_precip_L]:\n",
    "    mean_var=np.mean(np.array(vars),axis=0)\n",
    "    std_var=np.std(np.array(vars),axis=0)\n",
    "    var_norm=(np.array(vars)-mean_var)/std_var\n",
    "    var_L.append(var_norm)\n",
    "    norm_param_L.append([mean_var,std_var])\n",
    "X=np.concatenate((var_L[0],var_L[1][:,:,:,np.newaxis],var_L[2][:,:,:,np.newaxis]),axis=-1)\n",
    "y=np.concatenate((var_L[3][:,:,:,np.newaxis],var_L[4][:,:,:,np.newaxis]),axis=-1)"
   ]
  },
  {
   "cell_type": "code",
   "execution_count": 121,
   "metadata": {},
   "outputs": [
    {
     "name": "stdout",
     "output_type": "stream",
     "text": [
      "(2996, 128, 49, 15)\n",
      "(2996, 128, 49, 2)\n",
      "0.0\n",
      "0.0\n"
     ]
    }
   ],
   "source": [
    "print(X.shape)\n",
    "print(y.shape)\n",
    "print(np.array(oe_wvp_L).min())\n",
    "a=np.nonzero(np.array(oe_wvp_L)<0)\n",
    "print(len(a[0])/len(oe_wvp_L)/128/49)"
   ]
  },
  {
   "cell_type": "code",
   "execution_count": null,
   "metadata": {},
   "outputs": [
    {
     "name": "stdout",
     "output_type": "stream",
     "text": [
      "Exported graph: graph(%input : Float(1, 16, 128, 64, strides=[131072, 8192, 64, 1], requires_grad=0, device=cpu),\n",
      "      %encoder.conv1.weight : Float(16, 16, 3, 3, strides=[144, 9, 3, 1], requires_grad=1, device=cpu),\n",
      "      %encoder.conv1.bias : Float(16, strides=[1], requires_grad=1, device=cpu),\n",
      "      %encoder.conv2.weight : Float(32, 16, 3, 3, strides=[144, 9, 3, 1], requires_grad=1, device=cpu),\n",
      "      %encoder.conv2.bias : Float(32, strides=[1], requires_grad=1, device=cpu),\n",
      "      %encoder.conv3.weight : Float(64, 32, 3, 3, strides=[288, 9, 3, 1], requires_grad=1, device=cpu),\n",
      "      %encoder.conv3.bias : Float(64, strides=[1], requires_grad=1, device=cpu),\n",
      "      %encoder.fc.weight : Float(128, 64, 3, 3, strides=[576, 9, 3, 1], requires_grad=1, device=cpu),\n",
      "      %encoder.fc.bias : Float(128, strides=[1], requires_grad=1, device=cpu),\n",
      "      %decoder.fc.weight : Float(64, 128, 3, 3, strides=[1152, 9, 3, 1], requires_grad=1, device=cpu),\n",
      "      %decoder.fc.bias : Float(64, strides=[1], requires_grad=1, device=cpu),\n",
      "      %decoder.deconv1.weight : Float(64, 32, 3, 3, strides=[288, 9, 3, 1], requires_grad=1, device=cpu),\n",
      "      %decoder.deconv1.bias : Float(32, strides=[1], requires_grad=1, device=cpu),\n",
      "      %decoder.deconv2.weight : Float(32, 16, 3, 3, strides=[144, 9, 3, 1], requires_grad=1, device=cpu),\n",
      "      %decoder.deconv2.bias : Float(16, strides=[1], requires_grad=1, device=cpu),\n",
      "      %decoder.deconv3.weight : Float(16, 13, 3, 3, strides=[117, 9, 3, 1], requires_grad=1, device=cpu),\n",
      "      %decoder.deconv3.bias : Float(13, strides=[1], requires_grad=1, device=cpu),\n",
      "      %regressor.fc.weight : Float(64, 128, 3, 3, strides=[1152, 9, 3, 1], requires_grad=1, device=cpu),\n",
      "      %regressor.fc.bias : Float(64, strides=[1], requires_grad=1, device=cpu),\n",
      "      %regressor.conv1.weight : Float(96, 32, 3, 3, strides=[288, 9, 3, 1], requires_grad=1, device=cpu),\n",
      "      %regressor.conv1.bias : Float(32, strides=[1], requires_grad=1, device=cpu),\n",
      "      %regressor.conv2.weight : Float(48, 16, 3, 3, strides=[144, 9, 3, 1], requires_grad=1, device=cpu),\n",
      "      %regressor.conv2.bias : Float(16, strides=[1], requires_grad=1, device=cpu),\n",
      "      %regressor.conv3.weight : Float(16, 9, 3, 3, strides=[81, 9, 3, 1], requires_grad=1, device=cpu),\n",
      "      %regressor.conv3.bias : Float(9, strides=[1], requires_grad=1, device=cpu)):\n",
      "  %/encoder/conv1/Conv_output_0 : Float(1, 16, 128, 64, strides=[131072, 8192, 64, 1], requires_grad=0, device=cpu) = onnx::Conv[dilations=[1, 1], group=1, kernel_shape=[3, 3], pads=[1, 1, 1, 1], strides=[1, 1], onnx_name=\"/encoder/conv1/Conv\"](%input, %encoder.conv1.weight, %encoder.conv1.bias), scope: __main__.HybridModel::/__main__.Encoder::encoder/torch.nn.modules.conv.Conv2d::conv1 # /Users/mgrecu/miniforge3/lib/python3.12/site-packages/torch/nn/modules/conv.py:549:0\n",
      "  %/encoder/Relu_output_0 : Float(1, 16, 128, 64, strides=[131072, 8192, 64, 1], requires_grad=1, device=cpu) = onnx::Relu[onnx_name=\"/encoder/Relu\"](%/encoder/conv1/Conv_output_0), scope: __main__.HybridModel::/__main__.Encoder::encoder # /Users/mgrecu/miniforge3/lib/python3.12/site-packages/torch/nn/functional.py:1704:0\n",
      "  %/encoder/pool/MaxPool_output_0 : Float(1, 16, 64, 32, strides=[32768, 2048, 32, 1], requires_grad=1, device=cpu) = onnx::MaxPool[ceil_mode=0, dilations=[1, 1], kernel_shape=[2, 2], pads=[0, 0, 0, 0], strides=[2, 2], onnx_name=\"/encoder/pool/MaxPool\"](%/encoder/Relu_output_0), scope: __main__.HybridModel::/__main__.Encoder::encoder/torch.nn.modules.pooling.MaxPool2d::pool # /Users/mgrecu/miniforge3/lib/python3.12/site-packages/torch/nn/functional.py:830:0\n",
      "  %/encoder/conv2/Conv_output_0 : Float(1, 32, 64, 32, strides=[65536, 2048, 32, 1], requires_grad=0, device=cpu) = onnx::Conv[dilations=[1, 1], group=1, kernel_shape=[3, 3], pads=[1, 1, 1, 1], strides=[1, 1], onnx_name=\"/encoder/conv2/Conv\"](%/encoder/pool/MaxPool_output_0, %encoder.conv2.weight, %encoder.conv2.bias), scope: __main__.HybridModel::/__main__.Encoder::encoder/torch.nn.modules.conv.Conv2d::conv2 # /Users/mgrecu/miniforge3/lib/python3.12/site-packages/torch/nn/modules/conv.py:549:0\n",
      "  %/encoder/Relu_1_output_0 : Float(1, 32, 64, 32, strides=[65536, 2048, 32, 1], requires_grad=1, device=cpu) = onnx::Relu[onnx_name=\"/encoder/Relu_1\"](%/encoder/conv2/Conv_output_0), scope: __main__.HybridModel::/__main__.Encoder::encoder # /Users/mgrecu/miniforge3/lib/python3.12/site-packages/torch/nn/functional.py:1704:0\n",
      "  %/encoder/pool_1/MaxPool_output_0 : Float(1, 32, 32, 16, strides=[16384, 512, 16, 1], requires_grad=1, device=cpu) = onnx::MaxPool[ceil_mode=0, dilations=[1, 1], kernel_shape=[2, 2], pads=[0, 0, 0, 0], strides=[2, 2], onnx_name=\"/encoder/pool_1/MaxPool\"](%/encoder/Relu_1_output_0), scope: __main__.HybridModel::/__main__.Encoder::encoder/torch.nn.modules.pooling.MaxPool2d::pool # /Users/mgrecu/miniforge3/lib/python3.12/site-packages/torch/nn/functional.py:830:0\n",
      "  %/encoder/conv3/Conv_output_0 : Float(1, 64, 32, 16, strides=[32768, 512, 16, 1], requires_grad=0, device=cpu) = onnx::Conv[dilations=[1, 1], group=1, kernel_shape=[3, 3], pads=[1, 1, 1, 1], strides=[1, 1], onnx_name=\"/encoder/conv3/Conv\"](%/encoder/pool_1/MaxPool_output_0, %encoder.conv3.weight, %encoder.conv3.bias), scope: __main__.HybridModel::/__main__.Encoder::encoder/torch.nn.modules.conv.Conv2d::conv3 # /Users/mgrecu/miniforge3/lib/python3.12/site-packages/torch/nn/modules/conv.py:549:0\n",
      "  %/encoder/Relu_2_output_0 : Float(1, 64, 32, 16, strides=[32768, 512, 16, 1], requires_grad=1, device=cpu) = onnx::Relu[onnx_name=\"/encoder/Relu_2\"](%/encoder/conv3/Conv_output_0), scope: __main__.HybridModel::/__main__.Encoder::encoder # /Users/mgrecu/miniforge3/lib/python3.12/site-packages/torch/nn/functional.py:1704:0\n",
      "  %/encoder/fc/Conv_output_0 : Float(1, 128, 32, 16, strides=[65536, 512, 16, 1], requires_grad=0, device=cpu) = onnx::Conv[dilations=[1, 1], group=1, kernel_shape=[3, 3], pads=[1, 1, 1, 1], strides=[1, 1], onnx_name=\"/encoder/fc/Conv\"](%/encoder/Relu_2_output_0, %encoder.fc.weight, %encoder.fc.bias), scope: __main__.HybridModel::/__main__.Encoder::encoder/torch.nn.modules.conv.Conv2d::fc # /Users/mgrecu/miniforge3/lib/python3.12/site-packages/torch/nn/modules/conv.py:549:0\n",
      "  %/decoder/fc/Conv_output_0 : Float(1, 64, 32, 16, strides=[32768, 512, 16, 1], requires_grad=0, device=cpu) = onnx::Conv[dilations=[1, 1], group=1, kernel_shape=[3, 3], pads=[1, 1, 1, 1], strides=[1, 1], onnx_name=\"/decoder/fc/Conv\"](%/encoder/fc/Conv_output_0, %decoder.fc.weight, %decoder.fc.bias), scope: __main__.HybridModel::/__main__.Decoder::decoder/torch.nn.modules.conv.Conv2d::fc # /Users/mgrecu/miniforge3/lib/python3.12/site-packages/torch/nn/modules/conv.py:549:0\n",
      "  %/decoder/upsample/Constant_output_0 : Float(4, strides=[1], requires_grad=0, device=cpu) = onnx::Constant[value= 1  1  2  2 [ CPUFloatType{4} ], onnx_name=\"/decoder/upsample/Constant\"](), scope: __main__.HybridModel::/__main__.Decoder::decoder/torch.nn.modules.upsampling.Upsample::upsample # /Users/mgrecu/miniforge3/lib/python3.12/site-packages/torch/nn/functional.py:4649:0\n",
      "  %onnx::Resize_38 : Tensor? = prim::Constant(), scope: __main__.HybridModel::/__main__.Decoder::decoder/torch.nn.modules.upsampling.Upsample::upsample # /Users/mgrecu/miniforge3/lib/python3.12/site-packages/torch/nn/functional.py:4649:0\n",
      "  %/decoder/upsample/Resize_output_0 : Float(1, 64, 64, 32, strides=[131072, 2048, 32, 1], requires_grad=1, device=cpu) = onnx::Resize[coordinate_transformation_mode=\"asymmetric\", cubic_coeff_a=-0.75, mode=\"nearest\", nearest_mode=\"floor\", onnx_name=\"/decoder/upsample/Resize\"](%/decoder/fc/Conv_output_0, %onnx::Resize_38, %/decoder/upsample/Constant_output_0), scope: __main__.HybridModel::/__main__.Decoder::decoder/torch.nn.modules.upsampling.Upsample::upsample # /Users/mgrecu/miniforge3/lib/python3.12/site-packages/torch/nn/functional.py:4649:0\n",
      "  %/decoder/deconv1/ConvTranspose_output_0 : Float(1, 32, 64, 32, strides=[65536, 2048, 32, 1], requires_grad=0, device=cpu) = onnx::ConvTranspose[dilations=[1, 1], group=1, kernel_shape=[3, 3], pads=[1, 1, 1, 1], strides=[1, 1], onnx_name=\"/decoder/deconv1/ConvTranspose\"](%/decoder/upsample/Resize_output_0, %decoder.deconv1.weight, %decoder.deconv1.bias), scope: __main__.HybridModel::/__main__.Decoder::decoder/torch.nn.modules.conv.ConvTranspose2d::deconv1 # /Users/mgrecu/miniforge3/lib/python3.12/site-packages/torch/nn/modules/conv.py:1162:0\n",
      "  %/decoder/Relu_output_0 : Float(1, 32, 64, 32, strides=[65536, 2048, 32, 1], requires_grad=1, device=cpu) = onnx::Relu[onnx_name=\"/decoder/Relu\"](%/decoder/deconv1/ConvTranspose_output_0), scope: __main__.HybridModel::/__main__.Decoder::decoder # /Users/mgrecu/miniforge3/lib/python3.12/site-packages/torch/nn/functional.py:1704:0\n",
      "  %/decoder/upsample_1/Constant_output_0 : Float(4, strides=[1], requires_grad=0, device=cpu) = onnx::Constant[value= 1  1  2  2 [ CPUFloatType{4} ], onnx_name=\"/decoder/upsample_1/Constant\"](), scope: __main__.HybridModel::/__main__.Decoder::decoder/torch.nn.modules.upsampling.Upsample::upsample # /Users/mgrecu/miniforge3/lib/python3.12/site-packages/torch/nn/functional.py:4649:0\n",
      "  %onnx::Resize_45 : Tensor? = prim::Constant(), scope: __main__.HybridModel::/__main__.Decoder::decoder/torch.nn.modules.upsampling.Upsample::upsample # /Users/mgrecu/miniforge3/lib/python3.12/site-packages/torch/nn/functional.py:4649:0\n",
      "  %/decoder/upsample_1/Resize_output_0 : Float(1, 32, 128, 64, strides=[262144, 8192, 64, 1], requires_grad=1, device=cpu) = onnx::Resize[coordinate_transformation_mode=\"asymmetric\", cubic_coeff_a=-0.75, mode=\"nearest\", nearest_mode=\"floor\", onnx_name=\"/decoder/upsample_1/Resize\"](%/decoder/Relu_output_0, %onnx::Resize_45, %/decoder/upsample_1/Constant_output_0), scope: __main__.HybridModel::/__main__.Decoder::decoder/torch.nn.modules.upsampling.Upsample::upsample # /Users/mgrecu/miniforge3/lib/python3.12/site-packages/torch/nn/functional.py:4649:0\n",
      "  %/decoder/deconv2/ConvTranspose_output_0 : Float(1, 16, 128, 64, strides=[131072, 8192, 64, 1], requires_grad=0, device=cpu) = onnx::ConvTranspose[dilations=[1, 1], group=1, kernel_shape=[3, 3], pads=[1, 1, 1, 1], strides=[1, 1], onnx_name=\"/decoder/deconv2/ConvTranspose\"](%/decoder/upsample_1/Resize_output_0, %decoder.deconv2.weight, %decoder.deconv2.bias), scope: __main__.HybridModel::/__main__.Decoder::decoder/torch.nn.modules.conv.ConvTranspose2d::deconv2 # /Users/mgrecu/miniforge3/lib/python3.12/site-packages/torch/nn/modules/conv.py:1162:0\n",
      "  %/decoder/Relu_1_output_0 : Float(1, 16, 128, 64, strides=[131072, 8192, 64, 1], requires_grad=1, device=cpu) = onnx::Relu[onnx_name=\"/decoder/Relu_1\"](%/decoder/deconv2/ConvTranspose_output_0), scope: __main__.HybridModel::/__main__.Decoder::decoder # /Users/mgrecu/miniforge3/lib/python3.12/site-packages/torch/nn/functional.py:1704:0\n",
      "  %output1 : Float(1, 13, 128, 64, strides=[106496, 8192, 64, 1], requires_grad=1, device=cpu) = onnx::ConvTranspose[dilations=[1, 1], group=1, kernel_shape=[3, 3], pads=[1, 1, 1, 1], strides=[1, 1], onnx_name=\"/decoder/deconv3/ConvTranspose\"](%/decoder/Relu_1_output_0, %decoder.deconv3.weight, %decoder.deconv3.bias), scope: __main__.HybridModel::/__main__.Decoder::decoder/torch.nn.modules.conv.ConvTranspose2d::deconv3 # /Users/mgrecu/miniforge3/lib/python3.12/site-packages/torch/nn/modules/conv.py:1162:0\n",
      "  %/regressor/fc/Conv_output_0 : Float(1, 64, 32, 16, strides=[32768, 512, 16, 1], requires_grad=0, device=cpu) = onnx::Conv[dilations=[1, 1], group=1, kernel_shape=[3, 3], pads=[1, 1, 1, 1], strides=[1, 1], onnx_name=\"/regressor/fc/Conv\"](%/encoder/fc/Conv_output_0, %regressor.fc.weight, %regressor.fc.bias), scope: __main__.HybridModel::/__main__.Regressor::regressor/torch.nn.modules.conv.Conv2d::fc # /Users/mgrecu/miniforge3/lib/python3.12/site-packages/torch/nn/modules/conv.py:549:0\n",
      "  %/regressor/upsample/Constant_output_0 : Float(4, strides=[1], requires_grad=0, device=cpu) = onnx::Constant[value= 1  1  2  2 [ CPUFloatType{4} ], onnx_name=\"/regressor/upsample/Constant\"](), scope: __main__.HybridModel::/__main__.Regressor::regressor/torch.nn.modules.upsampling.Upsample::upsample # /Users/mgrecu/miniforge3/lib/python3.12/site-packages/torch/nn/functional.py:4649:0\n",
      "  %onnx::Resize_54 : Tensor? = prim::Constant(), scope: __main__.HybridModel::/__main__.Regressor::regressor/torch.nn.modules.upsampling.Upsample::upsample # /Users/mgrecu/miniforge3/lib/python3.12/site-packages/torch/nn/functional.py:4649:0\n",
      "  %/regressor/upsample/Resize_output_0 : Float(1, 64, 64, 32, strides=[131072, 2048, 32, 1], requires_grad=1, device=cpu) = onnx::Resize[coordinate_transformation_mode=\"asymmetric\", cubic_coeff_a=-0.75, mode=\"nearest\", nearest_mode=\"floor\", onnx_name=\"/regressor/upsample/Resize\"](%/regressor/fc/Conv_output_0, %onnx::Resize_54, %/regressor/upsample/Constant_output_0), scope: __main__.HybridModel::/__main__.Regressor::regressor/torch.nn.modules.upsampling.Upsample::upsample # /Users/mgrecu/miniforge3/lib/python3.12/site-packages/torch/nn/functional.py:4649:0\n",
      "  %/regressor/Concat_output_0 : Float(1, 96, 64, 32, strides=[196608, 2048, 32, 1], requires_grad=1, device=cpu) = onnx::Concat[axis=1, onnx_name=\"/regressor/Concat\"](%/regressor/upsample/Resize_output_0, %/encoder/Relu_1_output_0), scope: __main__.HybridModel::/__main__.Regressor::regressor # /var/folders/x_/d2_jzyq50052xh1_tk02bnmc0000gq/T/ipykernel_64746/4133209020.py:51:0\n",
      "  %/regressor/conv1/ConvTranspose_output_0 : Float(1, 32, 64, 32, strides=[65536, 2048, 32, 1], requires_grad=0, device=cpu) = onnx::ConvTranspose[dilations=[1, 1], group=1, kernel_shape=[3, 3], pads=[1, 1, 1, 1], strides=[1, 1], onnx_name=\"/regressor/conv1/ConvTranspose\"](%/regressor/Concat_output_0, %regressor.conv1.weight, %regressor.conv1.bias), scope: __main__.HybridModel::/__main__.Regressor::regressor/torch.nn.modules.conv.ConvTranspose2d::conv1 # /Users/mgrecu/miniforge3/lib/python3.12/site-packages/torch/nn/modules/conv.py:1162:0\n",
      "  %/regressor/Relu_output_0 : Float(1, 32, 64, 32, strides=[65536, 2048, 32, 1], requires_grad=1, device=cpu) = onnx::Relu[onnx_name=\"/regressor/Relu\"](%/regressor/conv1/ConvTranspose_output_0), scope: __main__.HybridModel::/__main__.Regressor::regressor # /Users/mgrecu/miniforge3/lib/python3.12/site-packages/torch/nn/functional.py:1704:0\n",
      "  %/regressor/upsample_1/Constant_output_0 : Float(4, strides=[1], requires_grad=0, device=cpu) = onnx::Constant[value= 1  1  2  2 [ CPUFloatType{4} ], onnx_name=\"/regressor/upsample_1/Constant\"](), scope: __main__.HybridModel::/__main__.Regressor::regressor/torch.nn.modules.upsampling.Upsample::upsample # /Users/mgrecu/miniforge3/lib/python3.12/site-packages/torch/nn/functional.py:4649:0\n",
      "  %onnx::Resize_62 : Tensor? = prim::Constant(), scope: __main__.HybridModel::/__main__.Regressor::regressor/torch.nn.modules.upsampling.Upsample::upsample # /Users/mgrecu/miniforge3/lib/python3.12/site-packages/torch/nn/functional.py:4649:0\n",
      "  %/regressor/upsample_1/Resize_output_0 : Float(1, 32, 128, 64, strides=[262144, 8192, 64, 1], requires_grad=1, device=cpu) = onnx::Resize[coordinate_transformation_mode=\"asymmetric\", cubic_coeff_a=-0.75, mode=\"nearest\", nearest_mode=\"floor\", onnx_name=\"/regressor/upsample_1/Resize\"](%/regressor/Relu_output_0, %onnx::Resize_62, %/regressor/upsample_1/Constant_output_0), scope: __main__.HybridModel::/__main__.Regressor::regressor/torch.nn.modules.upsampling.Upsample::upsample # /Users/mgrecu/miniforge3/lib/python3.12/site-packages/torch/nn/functional.py:4649:0\n",
      "  %/regressor/Concat_1_output_0 : Float(1, 48, 128, 64, strides=[393216, 8192, 64, 1], requires_grad=1, device=cpu) = onnx::Concat[axis=1, onnx_name=\"/regressor/Concat_1\"](%/regressor/upsample_1/Resize_output_0, %/encoder/Relu_output_0), scope: __main__.HybridModel::/__main__.Regressor::regressor # /var/folders/x_/d2_jzyq50052xh1_tk02bnmc0000gq/T/ipykernel_64746/4133209020.py:54:0\n",
      "  %/regressor/conv2/ConvTranspose_output_0 : Float(1, 16, 128, 64, strides=[131072, 8192, 64, 1], requires_grad=0, device=cpu) = onnx::ConvTranspose[dilations=[1, 1], group=1, kernel_shape=[3, 3], pads=[1, 1, 1, 1], strides=[1, 1], onnx_name=\"/regressor/conv2/ConvTranspose\"](%/regressor/Concat_1_output_0, %regressor.conv2.weight, %regressor.conv2.bias), scope: __main__.HybridModel::/__main__.Regressor::regressor/torch.nn.modules.conv.ConvTranspose2d::conv2 # /Users/mgrecu/miniforge3/lib/python3.12/site-packages/torch/nn/modules/conv.py:1162:0\n",
      "  %/regressor/Relu_1_output_0 : Float(1, 16, 128, 64, strides=[131072, 8192, 64, 1], requires_grad=1, device=cpu) = onnx::Relu[onnx_name=\"/regressor/Relu_1\"](%/regressor/conv2/ConvTranspose_output_0), scope: __main__.HybridModel::/__main__.Regressor::regressor # /Users/mgrecu/miniforge3/lib/python3.12/site-packages/torch/nn/functional.py:1704:0\n",
      "  %output2 : Float(1, 9, 128, 64, strides=[73728, 8192, 64, 1], requires_grad=1, device=cpu) = onnx::ConvTranspose[dilations=[1, 1], group=1, kernel_shape=[3, 3], pads=[1, 1, 1, 1], strides=[1, 1], onnx_name=\"/regressor/conv3/ConvTranspose\"](%/regressor/Relu_1_output_0, %regressor.conv3.weight, %regressor.conv3.bias), scope: __main__.HybridModel::/__main__.Regressor::regressor/torch.nn.modules.conv.ConvTranspose2d::conv3 # /Users/mgrecu/miniforge3/lib/python3.12/site-packages/torch/nn/modules/conv.py:1162:0\n",
      "  return (%output1, %output2)\n",
      "\n"
     ]
    }
   ],
   "source": [
    "import torch\n",
    "import torch.nn as nn\n",
    "import torch.nn.functional as F\n",
    "\n",
    "class Encoder(nn.Module):\n",
    "    def __init__(self, in_channels, nf,latent_dim):\n",
    "        super(Encoder, self).__init__()\n",
    "        self.conv1 = nn.Conv2d(in_channels, nf, kernel_size=3, padding=1)\n",
    "        self.conv2 = nn.Conv2d(nf, nf*2, kernel_size=3, padding=1)\n",
    "        self.conv3 = nn.Conv2d(nf*2, nf*4, kernel_size=3, padding=1)\n",
    "        self.pool = nn.MaxPool2d(kernel_size=2, stride=2)\n",
    "        self.fc = nn.Conv2d(nf*4, latent_dim, kernel_size=3, padding=1)\n",
    "\n",
    "    def forward(self, x):\n",
    "        x1 = F.relu(self.conv1(x))\n",
    "        x2 = F.relu(self.conv2(self.pool(x1)))\n",
    "        x3 = F.relu(self.conv3(self.pool(x2)))\n",
    "        z = self.fc(x3)\n",
    "        return z, [x1, x2, x3]\n",
    "\n",
    "class Decoder(nn.Module):\n",
    "    def __init__(self, latent_dim, nf, out_channels):\n",
    "        super(Decoder, self).__init__()\n",
    "        self.fc = nn.Conv2d(latent_dim, nf*4, kernel_size=3, padding=1)\n",
    "        self.deconv1 = nn.ConvTranspose2d(nf*4, nf*2, kernel_size=3, padding=1)\n",
    "        self.deconv2 = nn.ConvTranspose2d(nf*2, nf, kernel_size=3, padding=1)\n",
    "        self.deconv3 = nn.ConvTranspose2d(nf, out_channels, kernel_size=3, padding=1)\n",
    "        self.upsample = nn.Upsample(scale_factor=2)\n",
    "\n",
    "    def forward(self, z):\n",
    "        x = self.fc(z)\n",
    "        x = F.relu(self.deconv1(self.upsample(x)))\n",
    "        x = F.relu(self.deconv2(self.upsample(x)))\n",
    "        x_hat =self.deconv3(x)\n",
    "        return x_hat\n",
    "\n",
    "class Regressor(nn.Module):\n",
    "    def __init__(self, latent_dim, nf, out_channels):\n",
    "        super(Regressor, self).__init__()\n",
    "        self.fc = nn.Conv2d(latent_dim, nf*4, kernel_size=3, padding=1)\n",
    "        self.conv1 = nn.ConvTranspose2d(nf*4+nf*2, nf*2, kernel_size=3, padding=1)\n",
    "        self.conv2 = nn.ConvTranspose2d(nf*2+nf, nf, kernel_size=3, padding=1)\n",
    "        self.conv3 = nn.ConvTranspose2d(nf, out_channels, kernel_size=3, padding=1)\n",
    "        self.upsample = nn.Upsample(scale_factor=2)\n",
    "\n",
    "    def forward(self, z, intermediate_outputs):\n",
    "        x1, x2, x3 = intermediate_outputs\n",
    "        x = self.fc(z)\n",
    "        x = self.upsample(x)\n",
    "        #print(x.shape,x2.shape)\n",
    "        x = torch.concat([x, x2], dim=1)\n",
    "        x = F.relu(self.conv1(x))\n",
    "        x = self.upsample(x)\n",
    "        x = torch.concat([x, x1], dim=1)\n",
    "        #print(x.shape,'[x,x1]')\n",
    "        x = F.relu(self.conv2(x))\n",
    "        x = self.conv3(x)\n",
    "        y_hat = x\n",
    "        return y_hat\n",
    "\n",
    "class HybridModel(nn.Module):\n",
    "    def __init__(self, in_channels, nf, latent_dim, rec_channels, out_channels):\n",
    "        super(HybridModel, self).__init__()\n",
    "        self.encoder = Encoder(in_channels, nf, latent_dim)\n",
    "        self.decoder = Decoder(latent_dim, nf, rec_channels)\n",
    "        self.regressor = Regressor(latent_dim, nf, out_channels)\n",
    "\n",
    "    def forward(self, x):\n",
    "        z, intermediate_outputs = self.encoder(x)\n",
    "        x_hat = self.decoder(z)\n",
    "        y_hat = self.regressor(z, intermediate_outputs)\n",
    "        return x_hat, y_hat\n",
    "\n",
    "# Example usage\n",
    "in_channels = 29\n",
    "rec_channels = 13\n",
    "latent_dim = 128\n",
    "out_channels = 9\n",
    "#model = HybridModel(in_channels, latent_dim, out_channels)\n",
    "nx = 128\n",
    "ny = 48\n",
    "nf = 16\n",
    "model_encoder = Encoder(in_channels, nf, latent_dim)\n",
    "model_decoder = Decoder(latent_dim, nf, out_channels)\n",
    "# Example input\n",
    "x = torch.randn(1, in_channels, 128, 64)\n",
    "#x_hat = model(x)\n",
    "z, intermediate_outputs = model_encoder(x)\n",
    "\n",
    "#print(x_hat.shape)\n",
    "#print(z.shape)\n",
    "#for x in intermediate_outputs:\n",
    "#    print('int_shape',x.shape)\n",
    "\n",
    "hybrid_model = HybridModel(in_channels, nf, latent_dim, rec_channels,out_channels)\n",
    "torch.onnx.export(hybrid_model, x, \"hybrid_model.onnx\", verbose=True, input_names = ['input'], output_names = ['output1', 'output2'])"
   ]
  },
  {
   "cell_type": "code",
   "execution_count": 122,
   "metadata": {},
   "outputs": [],
   "source": [
    "import torch\n",
    "n_all=X.shape[0]\n",
    "nt=int(n_all*0.8)\n",
    "X_torch=torch.tensor(X[:,:,:48,:],dtype=torch.float32)\n",
    "y_torch=torch.tensor(y[:,:,:48,:],dtype=torch.float32)\n",
    "X_torch=X_torch.permute(0,3,1,2)\n",
    "y_torch=y_torch.permute(0,3,1,2)\n",
    "#mask_torch=torch.tensor(mask_y[:nt],dtype=torch.float32) \n",
    "model = HybridModel(in_channels=15, nf=16, latent_dim=16, rec_channels=13,out_channels=2)\n",
    "dataset = torch.utils.data.TensorDataset(X_torch[:nt], y_torch[:nt])\n",
    "dataloader = torch.utils.data.DataLoader(dataset, batch_size=32, shuffle=True)\n",
    "optimizer = torch.optim.Adam(model.parameters(), lr=1e-3)\n",
    "criterion = nn.MSELoss()"
   ]
  },
  {
   "cell_type": "code",
   "execution_count": 128,
   "metadata": {},
   "outputs": [
    {
     "name": "stdout",
     "output_type": "stream",
     "text": [
      "Epoch 1/5, Loss: 0.3032074703772863\n",
      "Epoch 2/5, Loss: 0.3113872617483139\n",
      "Epoch 3/5, Loss: 0.3001754738887151\n",
      "Epoch 4/5, Loss: 0.2966721016168594\n",
      "Epoch 5/5, Loss: 0.28765505492687227\n"
     ]
    }
   ],
   "source": [
    "n_epochs = 5\n",
    "for epoch in range(n_epochs):\n",
    "    avg_loss = 0\n",
    "    for inputs, target in dataloader:\n",
    "        optimizer.zero_grad()\n",
    "        outputs, y_ = model(inputs)\n",
    "        loss1 = criterion(outputs, inputs[:,:13,:,:])\n",
    "        loss2 = criterion(y_, target)\n",
    "        loss=loss1+loss2\n",
    "        loss.backward()\n",
    "        optimizer.step()\n",
    "        avg_loss += loss.item()\n",
    "    print(f\"Epoch {epoch+1}/{n_epochs}, Loss: {avg_loss/len(dataloader)}\")"
   ]
  },
  {
   "cell_type": "code",
   "execution_count": 135,
   "metadata": {},
   "outputs": [
    {
     "name": "stdout",
     "output_type": "stream",
     "text": [
      "[[1.         0.95892529]\n",
      " [0.95892529 1.        ]]\n"
     ]
    }
   ],
   "source": [
    "y_rec, y_pred = model(X_torch[nt:])\n",
    "y_pred_np=y_pred.detach().numpy()\n",
    "y_target_np=y_torch.detach().numpy()\n",
    "a_land=np.nonzero(np.array(sfc_type_L[nt:])[:,:,:48]>0.01)\n",
    "print(np.corrcoef(y_pred_np[:,0,:,:][a_land],y_target_np[nt:,0,:,:][a_land]))"
   ]
  },
  {
   "cell_type": "code",
   "execution_count": 77,
   "metadata": {},
   "outputs": [
    {
     "name": "stdout",
     "output_type": "stream",
     "text": [
      "-7.4919124 3.581701\n",
      "0.20863369 1.1\n"
     ]
    }
   ],
   "source": [
    "print(var_L[-1].min(),var_L[-1].max())\n",
    "print(np.array(sfc_emiss_L).min(),np.array(sfc_emiss_L).max())"
   ]
  },
  {
   "cell_type": "code",
   "execution_count": 139,
   "metadata": {},
   "outputs": [
    {
     "name": "stdout",
     "output_type": "stream",
     "text": [
      "[[1. 1.]\n",
      " [1. 1.]]\n"
     ]
    },
    {
     "data": {
      "image/png": "[encoded data removed]",
      "text/plain": [
       "<Figure size 640x480 with 2 Axes>"
      ]
     },
     "metadata": {},
     "output_type": "display_data"
    }
   ],
   "source": [
    "print(np.corrcoef(y_target_np[nt:,0,:,:].flatten(),var_L[3][nt:,:,:48].flatten()))\n",
    "import matplotlib.colors\n",
    "ax=plt.subplot(111)\n",
    "h2=plt.hist2d(y_target_np[nt:,0,:,:][a_land].flatten(),y_pred_np[:,0,:,:][a_land].flatten(),bins=np.arange(-1,4,0.1),cmap='jet',norm=matplotlib.colors.LogNorm())\n",
    "ax.set_aspect('equal')\n",
    "plt.xlabel('Reference normalized OE WVP')\n",
    "plt.ylabel('Predicted normalized OE WVP')\n",
    "plt.title('Land - No analysis data')\n",
    "plt.colorbar(h2[3],label='Number of samples')\n",
    "plt.savefig('joint_hist_oewvp_land.png',dpi=300)\n",
    "#plt.figure()\n",
    "#plt.hist2d(y_target_np[nt:,0,:,:].flatten(),var_L[3][nt:,:,:48].flatten(),bins=50,cmap='jet',norm=matplotlib.colors.LogNorm())"
   ]
  },
  {
   "cell_type": "code",
   "execution_count": 143,
   "metadata": {},
   "outputs": [
    {
     "data": {
      "text/plain": [
       "0.17320508075688773"
      ]
     },
     "execution_count": 143,
     "metadata": {},
     "output_type": "execute_result"
    }
   ],
   "source": [
    "(y_target_np[nt:,0,:,:][a_land].flatten()-y_pred_np[:,0,:,:][a_land].flatten()).std()**2\n",
    "0.03**0.5"
   ]
  }
 ],
 "metadata": {
  "kernelspec": {
   "display_name": "base",
   "language": "python",
   "name": "python3"
  },
  "language_info": {
   "codemirror_mode": {
    "name": "ipython",
    "version": 3
   },
   "file_extension": ".py",
   "mimetype": "text/x-python",
   "name": "python",
   "nbconvert_exporter": "python",
   "pygments_lexer": "ipython3",
   "version": "3.12.9"
  }
 },
 "nbformat": 4,
 "nbformat_minor": 2
}
