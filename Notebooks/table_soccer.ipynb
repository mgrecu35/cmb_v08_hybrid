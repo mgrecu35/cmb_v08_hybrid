{
 "cells": [
  {
   "cell_type": "code",
   "execution_count": 27,
   "metadata": {},
   "outputs": [
    {
     "data": {
      "application/vnd.jupyter.widget-view+json": {
       "model_id": "d878f80fce754671a3b16c24c7919873",
       "version_major": 2,
       "version_minor": 0
      },
      "text/plain": [
       "Canvas(height=600, width=600)"
      ]
     },
     "metadata": {},
     "output_type": "display_data"
    }
   ],
   "source": [
    "import pymunk\n",
    "import math\n",
    "from ipycanvas import Canvas\n",
    "\n",
    "def create_circle(space, pos, radius, mass, color):\n",
    "    \"\"\"Create a circle object in pymunk.\"\"\"\n",
    "    body = pymunk.Body(mass, pymunk.moment_for_circle(mass, 0, radius))\n",
    "    body.position = pos\n",
    "    shape = pymunk.Circle(body, radius)\n",
    "    shape.elasticity = 0.8\n",
    "    shape.friction = 10.5\n",
    "    shape.color = color\n",
    "    space.add(body, shape)\n",
    "    return body, shape\n",
    "\n",
    "def flick_circle(player, ball, force, angle):\n",
    "    \"\"\"Simulate flicking the player to hit the ball.\"\"\"\n",
    "    # Apply force to the player in the given direction\n",
    "    fx = force * math.cos(angle)\n",
    "    fy = force * math.sin(angle)\n",
    "    player.apply_impulse_at_local_point((fx, fy))\n",
    "\n",
    "def draw_circle(canvas, body, shape):\n",
    "    \"\"\"Draw a circle on the canvas.\"\"\"\n",
    "    x, y = body.position\n",
    "    radius = shape.radius\n",
    "    color = shape.color\n",
    "    canvas.fill_style = f\"rgb({color[0]}, {color[1]}, {color[2]})\"\n",
    "    canvas.fill_circle(x, 600 - y, radius)\n",
    "\n",
    "# Canvas setup\n",
    "from ipycanvas import Canvas, hold_canvas\n",
    "canvas = Canvas(width=600, height=600)\n",
    "\n",
    "\n",
    "# Pymunk space setup\n",
    "space = pymunk.Space()\n",
    "space.gravity = (0, 0)\n",
    "\n",
    "# Create player and ball\n",
    "player_body, player_shape = create_circle(space, (200, 200), 15, 10, (255, 0, 0))\n",
    "ball_body, ball_shape = create_circle(space, (210, 200), 10, 5, (255, 175, 0))\n",
    "\n",
    "# Simulation loop\n",
    "import time\n",
    "from IPython.display import display, clear_output\n",
    "canvas=Canvas(width=600, height=600)\n",
    "display(canvas)\n",
    "\n",
    "flick_circle(player_body, ball_body, force=100, angle=math.radians(5))\n",
    "\n",
    "\n",
    "\"\"\"Run the simulation loop.\"\"\"\n",
    "for _ in range(600):  # Simulate for 10 seconds (600 frames at 60 FPS)\n",
    "    space.step(6 / 60.0)\n",
    "    time.sleep(0.1 / 60.0)\n",
    "    player_body.velocity = player_body.velocity * 0.995  # Damping\n",
    "    ball_body.velocity = ball_body.velocity * 0.995  # Damping\n",
    "    with hold_canvas():\n",
    "        canvas.clear()\n",
    "        draw_circle(canvas, player_body, player_shape)\n",
    "        draw_circle(canvas, ball_body, ball_shape)\n",
    "       \n"
   ]
  }
 ],
 "metadata": {
  "kernelspec": {
   "display_name": "base",
   "language": "python",
   "name": "python3"
  },
  "language_info": {
   "codemirror_mode": {
    "name": "ipython",
    "version": 3
   },
   "file_extension": ".py",
   "mimetype": "text/x-python",
   "name": "python",
   "nbconvert_exporter": "python",
   "pygments_lexer": "ipython3",
   "version": "3.12.8"
  }
 },
 "nbformat": 4,
 "nbformat_minor": 2
}
