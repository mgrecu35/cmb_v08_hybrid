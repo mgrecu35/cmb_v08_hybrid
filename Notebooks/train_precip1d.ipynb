{
 "cells": [
  {
   "cell_type": "code",
   "execution_count": 85,
   "id": "9eada916",
   "metadata": {},
   "outputs": [
    {
     "name": "stdout",
     "output_type": "stream",
     "text": [
      "{'tc': [array([172.58295, 101.09319, 194.71022, 132.48866, 219.26488, 218.11345,\n",
      "       163.62964, 257.93765, 229.89326, 271.30518, 266.49127, 258.22556,\n",
      "       266.8596 ]), array([20.9655  , 32.31992 , 19.623337, 31.60958 , 22.2808  , 14.723263,\n",
      "       27.47244 , 15.023948, 27.124723, 13.967746, 18.726631,  8.970008,\n",
      "       10.455282])], 'sfc_type': [array([4.46365518]), array([25.11409622])], 'sk_temp': [array([288.79288]), array([11.261115])], 'qv': [array([7.849633]), array([4.943822])], 'oe_wvp': [array([24.916843]), array([17.580933])], 'near_sfc_precip': [array([0.07530318]), array([0.28768516])]}\n"
     ]
    }
   ],
   "source": [
    "vars=['tc','sfc_type','sk_temp','qv','oe_wvp','near_sfc_precip']\n",
    "\n",
    "d={}\n",
    "import numpy as np\n",
    "surface='ocean'\n",
    "with open('../GMI-models/scaler_1d_%s.txt'%surface ,'r') as f:\n",
    "    lines = f.readlines()\n",
    "    ic=0\n",
    "    for i in range(6):\n",
    "        var_name = lines[ic]\n",
    "        ic += 1\n",
    "        var_mean = np.array([float(v) for v in lines[ic].split()])\n",
    "        ic += 1\n",
    "        var_std = np.array([float(v) for v in lines[ic].split()])\n",
    "        ic += 1\n",
    "        d[var_name[:-1]] = [var_mean, var_std]\n",
    "\n",
    "print(d)"
   ]
  },
  {
   "cell_type": "code",
   "execution_count": 88,
   "id": "aaa1e5c7",
   "metadata": {},
   "outputs": [
    {
     "name": "stderr",
     "output_type": "stream",
     "text": [
      "100%|██████████| 403/403 [00:08<00:00, 44.91it/s]\n"
     ]
    }
   ],
   "source": [
    "import glob\n",
    "files=glob.glob('../output_1d/*.nc')\n",
    "files=sorted(files)\n",
    "import netCDF4 as nc\n",
    "tc_L=[]\n",
    "sk_temp_L=[]\n",
    "sfc_type_L=[]\n",
    "qv_L=[]\n",
    "prate_L=[]\n",
    "import tqdm\n",
    "for f in tqdm.tqdm(files):\n",
    "    with nc.Dataset(f) as ds:\n",
    "        #print(ds)\n",
    "        tc_s1 = ds.variables['tc_s1'][:]\n",
    "        tc_s2 = ds.variables['tc_s2'][:]\n",
    "        sk_temp = ds.variables['sk_temp'][:]\n",
    "        qv = ds.variables['qv'][:]\n",
    "        sfc_type = ds.variables['surface_type'][:]\n",
    "        a=np.nonzero(sfc_type==0)\n",
    "        tc=np.concatenate((tc_s1[a],tc_s2[a]),axis=-1)\n",
    "        tc_L.extend(tc)\n",
    "        sk_temp_L.extend(sk_temp[a])\n",
    "        sfc_type_L.extend(sfc_type[a])\n",
    "        qv_L.extend(qv[a])\n",
    "        prate_L.extend(ds.variables['prate'][:,:-2][a])\n",
    "        #print(ds)\n",
    "    #break"
   ]
  },
  {
   "cell_type": "code",
   "execution_count": 89,
   "id": "b717a725",
   "metadata": {},
   "outputs": [
    {
     "name": "stdout",
     "output_type": "stream",
     "text": [
      "501423\n"
     ]
    }
   ],
   "source": [
    "print(len(tc_L))\n",
    "tc_L=np.array(tc_L)\n",
    "tc_scaled=(tc_L-d['tc'][0])/d['tc'][1]\n",
    "sk_temp_L=np.array(sk_temp_L)\n",
    "sk_temp_scaled=(sk_temp_L-d['sk_temp'][0])/d['sk_temp'][1]\n",
    "sfc_type_L=np.array(sfc_type_L)\n",
    "sfc_type_scaled=(sfc_type_L-d['sfc_type'][0])/d['sfc_type'][1]\n",
    "qv_L=np.array(qv_L)\n",
    "qv_scaled=(qv_L[:,-1]-d['qv'][0])/d['qv'][1]"
   ]
  },
  {
   "cell_type": "code",
   "execution_count": 90,
   "id": "967c7ac5",
   "metadata": {},
   "outputs": [
    {
     "name": "stdout",
     "output_type": "stream",
     "text": [
      "3.3214593216628656 2.022696917570136\n",
      "1.0308378 0.58189976\n"
     ]
    }
   ],
   "source": [
    "y_scaled=(np.log10(1+np.array(prate_L)/0.1)-d['near_sfc_precip'][0])/d['near_sfc_precip'][1]\n",
    "print(y_scaled[:,-1].mean(),y_scaled[:,-1].std())\n",
    "y_log=np.log10(1+np.array(prate_L)[:,-1]/0.1)\n",
    "y_log_mean=y_log.mean()\n",
    "y_log_std=y_log.std()\n",
    "print(y_log_mean,y_log_std)"
   ]
  },
  {
   "cell_type": "code",
   "execution_count": 91,
   "id": "ef70e89f",
   "metadata": {},
   "outputs": [],
   "source": [
    "import torch\n",
    "import torch.nn as nn\n",
    "import torch.nn.functional as F\n",
    "X_input=torch.tensor(np.concatenate((tc_scaled,sfc_type_scaled[:,np.newaxis],sk_temp_scaled[:,np.newaxis],qv_scaled[:,np.newaxis]),axis=-1),dtype=torch.float32)\n",
    "y_output=torch.tensor((np.log10(1+np.array(prate_L)/0.1)-0.8)/0.5,dtype=torch.float32)\n"
   ]
  },
  {
   "cell_type": "code",
   "execution_count": 92,
   "id": "a248bb52",
   "metadata": {},
   "outputs": [],
   "source": [
    "class DenseModel(torch.nn.Module):\n",
    "    def __init__(self, input_size, output_size):\n",
    "        super(DenseModel, self).__init__()\n",
    "        self.fc1 = torch.nn.Linear(input_size, 128)\n",
    "        self.dropout1 = torch.nn.Dropout(p=0.05)\n",
    "        self.fc2 = torch.nn.Linear(128, 64)\n",
    "        self.dropout2 = torch.nn.Dropout(p=0.05)\n",
    "        self.fc3 = torch.nn.Linear(64, output_size)\n",
    "\n",
    "    def forward(self, x):\n",
    "        x = torch.relu(self.fc1(x))\n",
    "        #x = self.dropout1(x)\n",
    "        x = torch.relu(self.fc2(x))\n",
    "        #x = self.dropout2(x)\n",
    "        x = self.fc3(x)\n",
    "        return x\n",
    "input_size = X_input.shape[1]\n",
    "output_size = y_output.shape[1]\n",
    "model = DenseModel(input_size, output_size)\n",
    "optimizer = torch.optim.Adam(model.parameters(), lr=0.001)\n",
    "criterion = torch.nn.MSELoss()\n",
    "num_epochs = 20\n"
   ]
  },
  {
   "cell_type": "code",
   "execution_count": 93,
   "id": "cbc3e02e",
   "metadata": {},
   "outputs": [],
   "source": [
    "ntot=X_input.shape[0]\n",
    "n_train=int(0.8*ntot)\n",
    "import torch\n",
    "X_train=torch.utils.data.TensorDataset(X_input[:n_train],y_output[:n_train])\n",
    "X_test=torch.utils.data.TensorDataset(X_input[n_train:],y_output[n_train:])\n",
    "X_train_loader = torch.utils.data.DataLoader(X_train, batch_size=64, shuffle=True)"
   ]
  },
  {
   "cell_type": "code",
   "execution_count": 94,
   "id": "0fec82c7",
   "metadata": {},
   "outputs": [
    {
     "name": "stdout",
     "output_type": "stream",
     "text": [
      "Epoch [1/20], Loss: 0.1700\n",
      "Epoch [2/20], Loss: 0.1407\n",
      "Epoch [3/20], Loss: 0.1364\n",
      "Epoch [4/20], Loss: 0.1341\n",
      "Epoch [5/20], Loss: 0.1322\n",
      "Epoch [6/20], Loss: 0.1312\n",
      "Epoch [7/20], Loss: 0.1302\n",
      "Epoch [8/20], Loss: 0.1293\n",
      "Epoch [9/20], Loss: 0.1288\n",
      "Epoch [10/20], Loss: 0.1284\n",
      "Epoch [11/20], Loss: 0.1277\n",
      "Epoch [12/20], Loss: 0.1275\n",
      "Epoch [13/20], Loss: 0.1274\n",
      "Epoch [14/20], Loss: 0.1269\n",
      "Epoch [15/20], Loss: 0.1265\n",
      "Epoch [16/20], Loss: 0.1263\n",
      "Epoch [17/20], Loss: 0.1261\n",
      "Epoch [18/20], Loss: 0.1259\n",
      "Epoch [19/20], Loss: 0.1255\n",
      "Epoch [20/20], Loss: 0.1254\n"
     ]
    }
   ],
   "source": [
    "num_epochs = 20\n",
    "for epoch in range(num_epochs):\n",
    "    avg_loss = 0\n",
    "    icount=0\n",
    "    for i, (inputs, targets) in enumerate(X_train_loader):\n",
    "        optimizer.zero_grad()\n",
    "        outputs = model(inputs)\n",
    "        loss = criterion(outputs, targets)\n",
    "        loss.backward()\n",
    "        optimizer.step()\n",
    "        avg_loss+=loss.item()\n",
    "        icount+=1\n",
    "    if (epoch+1) % 1 == 0:\n",
    "        print(f'Epoch [{epoch+1}/{num_epochs}], Loss: {avg_loss/icount:.4f}')\n",
    "torch.save(model.state_dict(), 'dense_1D_model_%s.pth'%surface)"
   ]
  },
  {
   "cell_type": "code",
   "execution_count": 95,
   "id": "350cb15c",
   "metadata": {},
   "outputs": [
    {
     "name": "stdout",
     "output_type": "stream",
     "text": [
      "0.8306208269711768\n",
      "Exported graph: graph(%input : Float(1, 16, strides=[16, 1], requires_grad=0, device=cpu),\n",
      "      %fc1.weight : Float(128, 16, strides=[16, 1], requires_grad=1, device=cpu),\n",
      "      %fc1.bias : Float(128, strides=[1], requires_grad=1, device=cpu),\n",
      "      %fc2.weight : Float(64, 128, strides=[128, 1], requires_grad=1, device=cpu),\n",
      "      %fc2.bias : Float(64, strides=[1], requires_grad=1, device=cpu),\n",
      "      %fc3.weight : Float(62, 64, strides=[64, 1], requires_grad=1, device=cpu),\n",
      "      %fc3.bias : Float(62, strides=[1], requires_grad=1, device=cpu)):\n",
      "  %/fc1/Gemm_output_0 : Float(1, 128, strides=[128, 1], requires_grad=1, device=cpu) = onnx::Gemm[alpha=1., beta=1., transB=1, onnx_name=\"/fc1/Gemm\"](%input, %fc1.weight, %fc1.bias), scope: __main__.DenseModel::/torch.nn.modules.linear.Linear::fc1 # /Users/mgrecu/miniforge3/lib/python3.12/site-packages/torch/nn/modules/linear.py:125:0\n",
      "  %/Relu_output_0 : Float(1, 128, strides=[128, 1], requires_grad=1, device=cpu) = onnx::Relu[onnx_name=\"/Relu\"](%/fc1/Gemm_output_0), scope: __main__.DenseModel:: # /var/folders/x_/d2_jzyq50052xh1_tk02bnmc0000gq/T/ipykernel_66333/1604410024.py:11:0\n",
      "  %/fc2/Gemm_output_0 : Float(1, 64, strides=[64, 1], requires_grad=1, device=cpu) = onnx::Gemm[alpha=1., beta=1., transB=1, onnx_name=\"/fc2/Gemm\"](%/Relu_output_0, %fc2.weight, %fc2.bias), scope: __main__.DenseModel::/torch.nn.modules.linear.Linear::fc2 # /Users/mgrecu/miniforge3/lib/python3.12/site-packages/torch/nn/modules/linear.py:125:0\n",
      "  %/Relu_1_output_0 : Float(1, 64, strides=[64, 1], requires_grad=1, device=cpu) = onnx::Relu[onnx_name=\"/Relu_1\"](%/fc2/Gemm_output_0), scope: __main__.DenseModel:: # /var/folders/x_/d2_jzyq50052xh1_tk02bnmc0000gq/T/ipykernel_66333/1604410024.py:13:0\n",
      "  %output : Float(1, 62, strides=[62, 1], requires_grad=1, device=cpu) = onnx::Gemm[alpha=1., beta=1., transB=1, onnx_name=\"/fc3/Gemm\"](%/Relu_1_output_0, %fc3.weight, %fc3.bias), scope: __main__.DenseModel::/torch.nn.modules.linear.Linear::fc3 # /Users/mgrecu/miniforge3/lib/python3.12/site-packages/torch/nn/modules/linear.py:125:0\n",
      "  return (%output)\n",
      "\n"
     ]
    }
   ],
   "source": [
    "y_pred=model(X_input[n_train:])\n",
    "y_pred=y_pred.detach().numpy()\n",
    "print(np.corrcoef(y_pred[:,-1],y_output[n_train:,-1].detach().numpy())[0,1])\n",
    "torch.onnx.export(model, X_input[:1,:], 'xdense/x_1d_dense_model_%s.onnx'%surface, export_params=True, verbose=True, input_names=['input'], output_names=['output'])"
   ]
  },
  {
   "cell_type": "code",
   "execution_count": 96,
   "id": "822ea1e2",
   "metadata": {},
   "outputs": [
    {
     "data": {
      "image/png": "[encoded data removed]",
      "text/plain": [
       "<Figure size 640x480 with 1 Axes>"
      ]
     },
     "metadata": {},
     "output_type": "display_data"
    }
   ],
   "source": [
    "import matplotlib.pyplot as plt\n",
    "ax=plt.subplot(1,1,1)\n",
    "import matplotlib\n",
    "h1=plt.hist2d(y_pred[:,-1].flatten(),y_output[n_train:,-1].detach().flatten(),bins=100,norm=matplotlib.colors.LogNorm(),cmap='jet')\n",
    "ax.set_aspect('equal', adjustable='box')"
   ]
  }
 ],
 "metadata": {
  "kernelspec": {
   "display_name": "base",
   "language": "python",
   "name": "python3"
  },
  "language_info": {
   "codemirror_mode": {
    "name": "ipython",
    "version": 3
   },
   "file_extension": ".py",
   "mimetype": "text/x-python",
   "name": "python",
   "nbconvert_exporter": "python",
   "pygments_lexer": "ipython3",
   "version": "3.12.10"
  }
 },
 "nbformat": 4,
 "nbformat_minor": 5
}
