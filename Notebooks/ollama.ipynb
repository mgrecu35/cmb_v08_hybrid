{
 "cells": [
  {
   "cell_type": "code",
   "execution_count": 2,
   "metadata": {},
   "outputs": [
    {
     "name": "stdout",
     "output_type": "stream",
     "text": [
      "Error decoding JSON response: Expecting value: line 1 column 1 (char 0), Chunk: {\"model\":\"mistral\",\"created_at\":\"2025-02-18T16:37:51.03252Z\",\"response\":\" In\",\"done\":false}\n"
     ]
    }
   ],
   "source": [
    "import requests\n",
    "import json\n",
    "\n",
    "ollama_base_url = \"http://localhost:11434\"  # Replace with your Ollama server URL\n",
    "model_name = \"mistral\"  # Replace with the name of the model you want to use\n",
    "\n",
    "def generate_text(prompt):\n",
    "    url = f\"{ollama_base_url}/api/generate\"\n",
    "    headers = {\"Content-Type\": \"application/json\"}\n",
    "    data = {\n",
    "        \"model\": model_name,\n",
    "        \"prompt\": prompt,\n",
    "        # Add other parameters as needed (e.g., temperature, max_tokens)\n",
    "    }\n",
    "\n",
    "    try:\n",
    "      response = requests.post(url, headers=headers, data=json.dumps(data), stream=True)\n",
    "      response.raise_for_status() # Raise an exception for bad status codes (4xx or 5xx)\n",
    "\n",
    "      for chunk in response.iter_lines(): # Stream the response\n",
    "          if chunk:\n",
    "            decoded_chunk = chunk.decode('utf-8')\n",
    "            json_chunk = json.loads(decoded_chunk[6:])  # Remove \"data: \" prefix and parse JSON\n",
    "            if 'response' in json_chunk:\n",
    "                print(json_chunk['response'], end='', flush=True)  # Print the generated text\n",
    "            if json_chunk.get('done', False):\n",
    "                break\n",
    "\n",
    "    except requests.exceptions.RequestException as e:\n",
    "        print(f\"Error communicating with Ollama server: {e}\")\n",
    "    except json.JSONDecodeError as e:\n",
    "      print(f\"Error decoding JSON response: {e}, Chunk: {decoded_chunk}\")\n",
    "\n",
    "prompt = \"Write a short story about a robot learning to love.\"\n",
    "generate_text(prompt)"
   ]
  },
  {
   "cell_type": "code",
   "execution_count": 60,
   "metadata": {},
   "outputs": [
    {
     "name": "stdout",
     "output_type": "stream",
     "text": [
      "\n",
      "\n",
      "\n",
      "\n",
      "\n"
     ]
    }
   ],
   "source": [
    "import requests\n",
    "import json\n",
    "\n",
    "ollama_base_url = \"http://localhost:11434\"\n",
    "model_name = \"mistral\"\n",
    "\n",
    "def chat(messages):\n",
    "    url = f\"{ollama_base_url}/api/chat\"\n",
    "    headers = {\"Content-Type\": \"application/json\"}\n",
    "    data = {\n",
    "        \"model\": model_name,\n",
    "        \"messages\": messages,\n",
    "        \"stream\": True\n",
    "    }\n",
    "    json_data = json.dumps(data)\n",
    "\n",
    "    try:\n",
    "        response = requests.post(url, headers=headers, data=json_data, stream=True)\n",
    "        response.raise_for_status()\n",
    "\n",
    "        assistant_response = \"\"  # Initialize to capture the full response\n",
    "        for chunk in response.iter_lines():\n",
    "            if chunk:\n",
    "                decoded_chunk = chunk.decode('utf-8')\n",
    "                if decoded_chunk.startswith(\"data: \"):\n",
    "                    json_string = decoded_chunk[6:]\n",
    "                    try:\n",
    "                        json_chunk = json.loads(json_string)\n",
    "                        if 'message' in json_chunk:\n",
    "                            content = json_chunk['message']['content']\n",
    "                            #print(content, end='', flush=True)\n",
    "                            assistant_response += content  # Accumulate the response\n",
    "\n",
    "                        if json_chunk.get('done', False):\n",
    "                            break\n",
    "\n",
    "                    except json.JSONDecodeError as e:\n",
    "                        ipass==1\n",
    "                        #print(f\"JSON decode error: {e}, Chunk: {decoded_chunk}\")\n",
    "                elif decoded_chunk == \"\":\n",
    "                    pass\n",
    "                else:\n",
    "                    ipass=1\n",
    "                    #print(f\"Unexpected chunk: {decoded_chunk}\")\n",
    "\n",
    "        return assistant_response # Return the complete assistant response\n",
    "\n",
    "    except requests.exceptions.RequestException as e:\n",
    "        print(f\"Error: {e}\")\n",
    "        return None  # Return None if there's an error\n",
    "\n",
    "\n",
    "# Example conversation:\n",
    "chat_history = []\n",
    "\n",
    "# First question\n",
    "user_input = \"What is the capital of France?\"\n",
    "chat_history.append({\"role\": \"user\", \"content\": user_input})\n",
    "assistant_response1 = chat(chat_history)\n",
    "if assistant_response1:\n",
    "    chat_history.append({\"role\": \"assistant\", \"content\": assistant_response1})\n",
    "\n",
    "print(\"\\n\") # Add a newline for better readability\n",
    "\n",
    "# Second question (using the chat history)\n",
    "user_input = \"How about Germany?\"\n",
    "chat_history.append({\"role\": \"user\", \"content\": user_input})\n",
    "assistant_response2 = chat(chat_history)\n",
    "if assistant_response2:\n",
    "    chat_history.append({\"role\": \"assistant\", \"content\": assistant_response2})\n",
    "\n",
    "print(\"\\n\") # Add a newline for better readability\n",
    "print(assistant_response1)\n",
    "\n",
    "# You can now continue the conversation by adding more questions to the chat_history\n",
    "# and calling the chat() function again."
   ]
  },
  {
   "cell_type": "code",
   "execution_count": 13,
   "metadata": {},
   "outputs": [],
   "source": [
    "import requests\n",
    "import json\n",
    "\n",
    "ollama_base_url = \"http://localhost:11434\"  # Confirmed working\n",
    "model_name = \"mistral\"  # Or the name of your model\n",
    "\n",
    "def generate_text(prompt):\n",
    "    url = f\"{ollama_base_url}/api/generate\"\n",
    "    headers = {\"Content-Type\": \"application/json\"}\n",
    "    data = {\n",
    "        \"model\": model_name,\n",
    "        \"prompt\": prompt,\n",
    "    }\n",
    "    json_data = json.dumps(data)  # Convert to JSON string!\n",
    "\n",
    "    try:\n",
    "        response = requests.post(url, headers=headers, data=json_data, stream=True) # Send JSON data\n",
    "        response.raise_for_status()  # Check for HTTP errors (4xx or 5xx)\n",
    "\n",
    "        # ... (rest of your streaming code)\n",
    "\n",
    "    except requests.exceptions.RequestException as e:\n",
    "        print(f\"Error: {e}\")\n",
    "    return response\n",
    "\n",
    "prompt = \"Write a short story.\"\n",
    "response=generate_text(prompt)"
   ]
  },
  {
   "cell_type": "code",
   "execution_count": null,
   "metadata": {},
   "outputs": [
    {
     "name": "stdout",
     "output_type": "stream",
     "text": [
      " Title: The Unseen Melody\\n\\nIn the small picturesque town of Harmonyville nestled between rolling hills and a sparkling river lived a young woman named Serenity. She was a gifted musician known for her enchanting melodies that could make even the most stoic heart feel a flutter. However there was one melody that remained unheard by all - the hauntingly beautiful song of the wind chimes in her garden.\\n\\nThe wind chimes were an old family heirloom passed down through generations. They hung from the tall oak tree in her backyard their silver tubes tinkling softly with every breeze. But when Serenity played her violin the wind chimes would respond with a harmony so perfect it seemed as if they were playing along with her.\\n\\nOne day a traveling musician named Harmon arrived in town. He was a charismatic man known for his ability to coax beautiful sounds from any instrument he encountered. When he heard Serenity play he was captivated by the unique melody that seemed to come from the wind chimes.\\n\\nHe asked Serenity about the source of the mysterious music but she only smiled and shook her head. Intrigued Harmon spent days in Harmonyville trying to recreate the melody on his own instruments. But no matter how hard he tried he couldn't quite capture the elusive tune.\\n\\nOne evening as the sun set over the hills Serenity invited Harmon to her garden. She played a soft haunting melody on her violin and the wind chimes responded with their own symphony. Harmon was spellbound his eyes wide with wonder.\\n\\nIn that moment he understood the secret of the wind chimes - they were not instruments in the traditional sense but rather they were a conduit for the music of the wind itself. They didn't need strings or keys; they needed only the breeze to sing their song.\\n\\nOverwhelmed with gratitude Harmon thanked Serenity for sharing this magical secret with him. From that day forward he carried a small set of wind chimes wherever he went capturing the melodies of the winds in his music and sharing them with others.\\n\\nAnd as for Serenity she continued to play her violin beneath the oak tree surrounded by the enchanting songs of the wind chimes. Her melodies filled Harmonyville with a sense of peace and harmony that echoed throughout the land reminding everyone that even the smallest unseen things could have the greatest impact on the world around us.\n",
      " Title: The Unseen Melody\n",
      "\n",
      "In the small picturesque town of Harmonyville nestled between rolling hills and a sparkling river lived a young woman named Serenity. She was a gifted musician known for her enchanting melodies that could make even the most stoic heart feel a flutter. However there was one melody that remained unheard by all - the hauntingly beautiful song of the wind chimes in her garden.\n",
      "\n",
      "The wind chimes were an old family heirloom passed down through generations. They hung from the tall oak tree in her backyard their silver tubes tinkling softly with every breeze. But when Serenity played her violin the wind chimes would respond with a harmony so perfect it seemed as if they were playing along with her.\n",
      "\n",
      "One day a traveling musician named Harmon arrived in town. He was a charismatic man known for his ability to coax beautiful sounds from any instrument he encountered. When he heard Serenity play he was captivated by the unique melody that seemed to come from the wind chimes.\n",
      "\n",
      "He asked Serenity about the source of the mysterious music but she only smiled and shook her head. Intrigued Harmon spent days in Harmonyville trying to recreate the melody on his own instruments. But no matter how hard he tried he couldn't quite capture the elusive tune.\n",
      "\n",
      "One evening as the sun set over the hills Serenity invited Harmon to her garden. She played a soft haunting melody on her violin and the wind chimes responded with their own symphony. Harmon was spellbound his eyes wide with wonder.\n",
      "\n",
      "In that moment he understood the secret of the wind chimes - they were not instruments in the traditional sense but rather they were a conduit for the music of the wind itself. They didn't need strings or keys; they needed only the breeze to sing their song.\n",
      "\n",
      "Overwhelmed with gratitude Harmon thanked Serenity for sharing this magical secret with him. From that day forward he carried a small set of wind chimes wherever he went capturing the melodies of the winds in his music and sharing them with others.\n",
      "\n",
      "And as for Serenity she continued to play her violin beneath the oak tree surrounded by the enchanting songs of the wind chimes. Her melodies filled Harmonyville with a sense of peace and harmony that echoed throughout the land reminding everyone that even the smallest unseen things could have the greatest impact on the world around us.\n"
     ]
    }
   ],
   "source": [
    "#print(response.text)\n",
    "text_all=''\n",
    "\n",
    "fout=open(\"output.txt\",\"w\")\n",
    "for chunk in response.iter_lines():  # Iterate over lines/chunks\n",
    "    s=chunk.decode('utf-8')\n",
    "    s_split=s.split(\",\")\n",
    "    sdata=s_split[2][12:-1]\n",
    "    text_all+=sdata\n",
    "    if chunk:  # Check for empty lines (keep-alive packets)\n",
    "        decoded_chunk = chunk.decode('utf-8')\n",
    "print(text_all)\n",
    "text_all=text_all.replace(\"\\\\n\",\"\\n\")\n",
    "fout.write(text_all)\n",
    "\n",
    "text_lines=text_all.split(\"\\n\")\n",
    "for line in text_lines:\n",
    "    print(line)\n",
    "    #fout.write(line)\n",
    "fout.close()\n",
    "#print(dir(response))\n",
    "s=chunk\n",
    "#print(s.decode('utf-8'))\n",
    "s=chunk.decode('utf-8')\n",
    "s_split=s.split(\",\")\n",
    "#print(s_split[2])"
   ]
  },
  {
   "cell_type": "code",
   "execution_count": 49,
   "metadata": {},
   "outputs": [
    {
     "name": "stdout",
     "output_type": "stream",
     "text": [
      "[\" Title: The Unseen Melody\\\\n\\\\nIn the small picturesque town of Harmonyville nestled between rolling hills and a sparkling river lived a young woman named Serenity. She was a gifted musician known for her enchanting melodies that could make even the most stoic heart feel a flutter. However there was one melody that remained unheard by all - the hauntingly beautiful song of the wind chimes in her garden.\\\\n\\\\nThe wind chimes were an old family heirloom passed down through generations. They hung from the tall oak tree in her backyard their silver tubes tinkling softly with every breeze. But when Serenity played her violin the wind chimes would respond with a harmony so perfect it seemed as if they were playing along with her.\\\\n\\\\nOne day a traveling musician named Harmon arrived in town. He was a charismatic man known for his ability to coax beautiful sounds from any instrument he encountered. When he heard Serenity play he was captivated by the unique melody that seemed to come from the wind chimes.\\\\n\\\\nHe asked Serenity about the source of the mysterious music but she only smiled and shook her head. Intrigued Harmon spent days in Harmonyville trying to recreate the melody on his own instruments. But no matter how hard he tried he couldn't quite capture the elusive tune.\\\\n\\\\nOne evening as the sun set over the hills Serenity invited Harmon to her garden. She played a soft haunting melody on her violin and the wind chimes responded with their own symphony. Harmon was spellbound his eyes wide with wonder.\\\\n\\\\nIn that moment he understood the secret of the wind chimes - they were not instruments in the traditional sense but rather they were a conduit for the music of the wind itself. They didn't need strings or keys; they needed only the breeze to sing their song.\\\\n\\\\nOverwhelmed with gratitude Harmon thanked Serenity for sharing this magical secret with him. From that day forward he carried a small set of wind chimes wherever he went capturing the melodies of the winds in his music and sharing them with others.\\\\n\\\\nAnd as for Serenity she continued to play her violin beneath the oak tree surrounded by the enchanting songs of the wind chimes. Her melodies filled Harmonyville with a sense of peace and harmony that echoed throughout the land reminding everyone that even the smallest unseen things could have the greatest impact on the world around us.\"]\n"
     ]
    }
   ],
   "source": [
    "print(text_lines)"
   ]
  }
 ],
 "metadata": {
  "kernelspec": {
   "display_name": "base",
   "language": "python",
   "name": "python3"
  },
  "language_info": {
   "codemirror_mode": {
    "name": "ipython",
    "version": 3
   },
   "file_extension": ".py",
   "mimetype": "text/x-python",
   "name": "python",
   "nbconvert_exporter": "python",
   "pygments_lexer": "ipython3",
   "version": "3.12.8"
  }
 },
 "nbformat": 4,
 "nbformat_minor": 2
}
