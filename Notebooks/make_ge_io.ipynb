{
 "cells": [
  {
   "cell_type": "code",
   "execution_count": 9,
   "id": "ce314a85",
   "metadata": {},
   "outputs": [
    {
     "ename": "NameError",
     "evalue": "name 'read' is not defined",
     "output_type": "error",
     "traceback": [
      "\u001b[0;31m---------------------------------------------------------------------------\u001b[0m",
      "\u001b[0;31mNameError\u001b[0m                                 Traceback (most recent call last)",
      "Cell \u001b[0;32mIn[9], line 15\u001b[0m\n\u001b[1;32m     10\u001b[0m fields \u001b[38;5;241m=\u001b[39m [\n\u001b[1;32m     11\u001b[0m     {\u001b[38;5;124m\"\u001b[39m\u001b[38;5;124mdtype\u001b[39m\u001b[38;5;124m\"\u001b[39m: \u001b[38;5;124m\"\u001b[39m\u001b[38;5;124minteger\u001b[39m\u001b[38;5;124m\"\u001b[39m, \u001b[38;5;124m\"\u001b[39m\u001b[38;5;124mndim\u001b[39m\u001b[38;5;124m\"\u001b[39m: \u001b[38;5;241m2\u001b[39m, \u001b[38;5;124m\"\u001b[39m\u001b[38;5;124mvarname\u001b[39m\u001b[38;5;124m\"\u001b[39m: \u001b[38;5;124m\"\u001b[39m\u001b[38;5;124msurfaceType\u001b[39m\u001b[38;5;124m\"\u001b[39m},\n\u001b[1;32m     12\u001b[0m     {\u001b[38;5;124m\"\u001b[39m\u001b[38;5;124mdtype\u001b[39m\u001b[38;5;124m\"\u001b[39m: \u001b[38;5;124m\"\u001b[39m\u001b[38;5;124mreal(kind=kind_real)\u001b[39m\u001b[38;5;124m\"\u001b[39m, \u001b[38;5;124m\"\u001b[39m\u001b[38;5;124mndim\u001b[39m\u001b[38;5;124m\"\u001b[39m: \u001b[38;5;241m3\u001b[39m, \u001b[38;5;124m\"\u001b[39m\u001b[38;5;124mvarname\u001b[39m\u001b[38;5;124m\"\u001b[39m: \u001b[38;5;124m\"\u001b[39m\u001b[38;5;124mtemperature\u001b[39m\u001b[38;5;124m\"\u001b[39m},\n\u001b[1;32m     13\u001b[0m ]\n\u001b[1;32m     14\u001b[0m fields\u001b[38;5;241m=\u001b[39m[]\n\u001b[0;32m---> 15\u001b[0m f\u001b[38;5;241m=\u001b[39m\u001b[43mread\u001b[49m(\u001b[38;5;124m'\u001b[39m\u001b[38;5;124mGE_fields\u001b[39m\u001b[38;5;124m'\u001b[39m)\u001b[38;5;241m.\u001b[39mreadlines()\n\u001b[1;32m     16\u001b[0m \u001b[38;5;28;01mfor\u001b[39;00m line \u001b[38;5;129;01min\u001b[39;00m f:\n\u001b[1;32m     17\u001b[0m     \u001b[38;5;28;01mif\u001b[39;00m line\u001b[38;5;241m.\u001b[39mstartswith(\u001b[38;5;124m\"\u001b[39m\u001b[38;5;124mGE_\u001b[39m\u001b[38;5;124m\"\u001b[39m):\n",
      "\u001b[0;31mNameError\u001b[0m: name 'read' is not defined"
     ]
    }
   ],
   "source": [
    "from jinja2 import Environment, FileSystemLoader\n",
    "\n",
    "# Step 1: Create Jinja2 Environment\n",
    "env = Environment(loader=FileSystemLoader('.'))  # looks in current directory\n",
    "\n",
    "# Step 2: Load Template\n",
    "template = env.get_template('template_type_def.j2')\n",
    "\n",
    "# Step 3: Define Data\n",
    "fields = [\n",
    "    {\"dtype\": \"integer\", \"ndim\": 2, \"varname\": \"surfaceType\"},\n",
    "    {\"dtype\": \"real(kind=kind_real)\", \"ndim\": 3, \"varname\": \"temperature\"},\n",
    "]\n",
    "fields=[]\n",
    "f=read('GE_fields').readlines()\n",
    "for line in f:\n",
    "    if line.startswith(\"GE_\"):\n",
    "        field = {}\n",
    "        field[\"dtype\"] = line.split()[1]\n",
    "        field[\"ndim\"] = int(line.split()[2])\n",
    "        field[\"varname\"] = line.split()[3]\n",
    "        print(field)\n",
    "        \n",
    "rendered_code = template.render(\n",
    "    module_name=\"GE_module\",\n",
    "    type_name=\"ge_data_type\",\n",
    "    fields=fields\n",
    ")\n",
    "\n",
    "print(rendered_code)\n",
    "with open('my_data_module.f90', 'w') as f:\n",
    "    f.write(rendered_code)\n",
    "\n",
    "print(\"Fortran code generated in my_data_module.f90\")\n",
    "!pwd"
   ]
  }
 ],
 "metadata": {
  "kernelspec": {
   "display_name": "base",
   "language": "python",
   "name": "python3"
  },
  "language_info": {
   "codemirror_mode": {
    "name": "ipython",
    "version": 3
   },
   "file_extension": ".py",
   "mimetype": "text/x-python",
   "name": "python",
   "nbconvert_exporter": "python",
   "pygments_lexer": "ipython3",
   "version": "3.12.10"
  }
 },
 "nbformat": 4,
 "nbformat_minor": 5
}
