{
 "cells": [
  {
   "cell_type": "code",
   "execution_count": null,
   "metadata": {},
   "outputs": [
    {
     "name": "stdout",
     "output_type": "stream",
     "text": [
      "<class 'netCDF4.Group'>\n",
      "group /FS/PRE:\n",
      "    dimensions(sizes): phony_dim_5(134), phony_dim_6(49), phony_dim_7(2), phony_dim_8(176)\n",
      "    variables(dimensions): float32 elevation(phony_dim_5, phony_dim_6), int32 landSurfaceType(phony_dim_5, phony_dim_6), float32 localZenithAngle(phony_dim_5, phony_dim_6, phony_dim_7), int32 flagPrecip(phony_dim_5, phony_dim_6), uint8 flagSigmaZeroSaturation(phony_dim_5, phony_dim_6, phony_dim_7), int16 binRealSurface(phony_dim_5, phony_dim_6, phony_dim_7), int16 binStormTop(phony_dim_5, phony_dim_6), float32 heightStormTop(phony_dim_5, phony_dim_6), float32 height(phony_dim_5, phony_dim_6, phony_dim_8), int16 binClutterFreeBottom(phony_dim_5, phony_dim_6), float32 sigmaZeroMeasured(phony_dim_5, phony_dim_6, phony_dim_7), float32 zFactorMeasured(phony_dim_5, phony_dim_6, phony_dim_8, phony_dim_7), float32 ellipsoidBinOffset(phony_dim_5, phony_dim_6), float32 snRatioAtRealSurface(phony_dim_5, phony_dim_6, phony_dim_7), float32 adjustFactor(phony_dim_5, phony_dim_6, phony_dim_7), int8 snowIceCover(phony_dim_5, phony_dim_6), int16 binMirrorImageL2(phony_dim_5, phony_dim_6), uint8 echoCountRealSurface(phony_dim_5, phony_dim_6, phony_dim_7)\n",
      "    groups: \n",
      "(5, 49, 134)\n",
      "(88, 49, 134)\n",
      "3\n",
      "520\n"
     ]
    }
   ],
   "source": [
    "import netCDF4 as nc\n",
    "import io_subs\n",
    "\n",
    "fdpr='KWAJ_data/2A-CS-KWAJ.GPM.DPR.V9-20240130.20241013-S120850-E121023.060336.V07C.HDF5'\n",
    "fcmb='KWAJ_data/2B-CS-KWAJ.GPM.DPRGMI.CORRA2022.20241013-S120850-E121023.060336.V07C.HDF5'\n",
    "qv,press,envNodes,airTemp,skTemp,binNodes,pwc,sfcEmiss,dm,cldw,sfcBin,zCorrected,pType,lon,lat,oe_wvp,oe_lwp,oe_iwp,oesfc_precip,stormTop,nearSfcPrecip,zeroDegAltitude,surfaceType=io_subs.readCMB(fcmb)\n",
    "with nc.Dataset(fdpr) as ds:\n",
    "    #print(ds)\n",
    "    #print(ds['FS/PRE'])\n",
    "    #print(ds['FS/SLV'])\n",
    "    precipRateNearSurface=ds['FS/SLV/precipRateNearSurface'][:]\n",
    "with nc.Dataset(fdpr) as fh:\n",
    "    z_meas=fh[\"FS/PRE/zFactorMeasured\"][:]\n",
    "    storm_top=fh[\"FS/PRE/binStormTop\"][:]\n",
    "    bin_zero_deg=fh[\"FS/VER/binZeroDeg\"][:]\n",
    "    localZenithAngle=fh[\"FS/PRE/localZenithAngle\"][:]\n",
    "    print(fh[\"FS/PRE\"])\n",
    "#import matplotlib.pyplot as plt\n",
    "#plt.imshow(precipRateNearSurface)\n",
    "import numpy as np\n",
    "z_meas2=10*np.log10(0.5*(10**(0.1*z_meas[:,:,::2])+10**(0.1*z_meas[:,:,1::2])+1e-5))\n",
    "pType=(pType/1e7).astype(int)\n",
    "nx1=0\n",
    "nx2=300\n",
    "z_ku_meas=z_meas2[nx1:nx2,:,:,0].T\n",
    "z_ka_meas=z_meas2[nx1:nx2,:,:,1].T\n",
    "bin_nodes_slice=binNodes[nx1:nx2,:,:].T\n",
    "print(bin_nodes_slice.shape)\n",
    "print(z_ku_meas.shape)\n",
    "\n",
    "\n",
    "p_type=pType[nx1:nx2,:].T\n",
    "print(p_type.max())\n",
    "a=np.nonzero(p_type>0)\n",
    "print(len(a[0]))\n",
    "n_seq=60\n",
    "n_input=2\n",
    "n_output=2\n",
    "n_batch=len(a[0])\n",
    "\n",
    "n_batch=1\n",
    "\n",
    "#onnx_precip_rate,onnx_dm,near_surf_onnx_precip_rate,pia_output = onnx_retrieval_ku_f90(z_ku_meas,p_type,bin_nodes,clut_depth,xlon,xlat,n_batch,n_seq,n_input,n_output,n_dim_2,n_comp_2"
   ]
  }
 ],
 "metadata": {
  "kernelspec": {
   "display_name": "base",
   "language": "python",
   "name": "python3"
  },
  "language_info": {
   "codemirror_mode": {
    "name": "ipython",
    "version": 3
   },
   "file_extension": ".py",
   "mimetype": "text/x-python",
   "name": "python",
   "nbconvert_exporter": "python",
   "pygments_lexer": "ipython3",
   "version": "3.12.8"
  }
 },
 "nbformat": 4,
 "nbformat_minor": 2
}
